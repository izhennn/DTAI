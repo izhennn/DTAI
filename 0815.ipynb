{
 "cells": [
  {
   "cell_type": "code",
   "execution_count": 1,
   "metadata": {},
   "outputs": [
    {
     "name": "stdout",
     "output_type": "stream",
     "text": [
      "0815\n"
     ]
    }
   ],
   "source": [
    "print(\"0815\")"
   ]
  },
  {
   "cell_type": "code",
   "execution_count": 2,
   "metadata": {},
   "outputs": [
    {
     "name": "stdout",
     "output_type": "stream",
     "text": [
      "你好 同學 , 我是PeiYu\n"
     ]
    }
   ],
   "source": [
    "c=\"你好 {} , 我是{}\"\n",
    "d=c.format(\"同學\",\"PeiYu\")\n",
    "print(d)"
   ]
  },
  {
   "cell_type": "code",
   "execution_count": 3,
   "metadata": {},
   "outputs": [
    {
     "name": "stdout",
     "output_type": "stream",
     "text": [
      "hello oxox,I am world,數字12345\n"
     ]
    }
   ],
   "source": [
    "a='hello {1},I am {0},數字{2}'\n",
    "b=a.format('world','oxox','12345')\n",
    "print(b)"
   ]
  },
  {
   "cell_type": "code",
   "execution_count": 4,
   "metadata": {},
   "outputs": [
    {
     "name": "stdout",
     "output_type": "stream",
     "text": [
      "Hello world, I am oxxo!!\n",
      "Hello world, I am xoox!!\n",
      "there are 2 dollars\n",
      "there are 2.000000 dollars\n"
     ]
    }
   ],
   "source": [
    "a = 'Hello world, I am %s!!'\n",
    "b = 'there are %d dollars'\n",
    "c = 'there are %f dollars'\n",
    "print(a % 'oxxo')\n",
    "print(a % 'xoox')\n",
    "print(b % 2.5)\n",
    "print(c % 2)"
   ]
  },
  {
   "cell_type": "code",
   "execution_count": 5,
   "metadata": {},
   "outputs": [
    {
     "name": "stdout",
     "output_type": "stream",
     "text": [
      "hello world, I am oxxo\n",
      "hello world     , I am oxxo      \n",
      "hello      world, I am       oxxo\n",
      "hello --world---, I am +++oxxo+++\n",
      "hello ---wor----, I am ---oxxo---\n",
      "hello ---wor----, I am  123.457  \n"
     ]
    }
   ],
   "source": [
    "a = 'hello {}, I am {}'.format('world','oxxo')\n",
    "b = 'hello {:10s}, I am {:10s}'.format('world','oxxo')\n",
    "c = 'hello {:>10s}, I am {:>10s}'.format('world','oxxo')\n",
    "d = 'hello {:-^10s}, I am {:+^10s}'.format('world','oxxo')\n",
    "e = 'hello {:-^10.3s}, I am {:-^10s}'.format('world','oxxo')\n",
    "f = 'hello {:-^10.3s}, I am {:^10.3f}'.format('world',123.456789)\n",
    "print(a)\n",
    "print(b)\n",
    "print(c)\n",
    "print(d)\n",
    "print(e)\n",
    "print(f)"
   ]
  },
  {
   "cell_type": "markdown",
   "metadata": {},
   "source": [
    "# hello +++world---,I am +++oxox--- "
   ]
  },
  {
   "cell_type": "code",
   "execution_count": 10,
   "metadata": {},
   "outputs": [],
   "source": [
    "g=\"{}+++world---,I amd +++{}---\".format(\"world\",\"oxox\")"
   ]
  },
  {
   "cell_type": "code",
   "execution_count": 11,
   "metadata": {},
   "outputs": [
    {
     "name": "stdout",
     "output_type": "stream",
     "text": [
      "world+++world---,I amd +++oxox---\n"
     ]
    }
   ],
   "source": [
    "print(g)"
   ]
  },
  {
   "cell_type": "code",
   "execution_count": 13,
   "metadata": {},
   "outputs": [
    {
     "name": "stdout",
     "output_type": "stream",
     "text": [
      "hello +++world---,I am amd +++oxox---\n"
     ]
    }
   ],
   "source": [
    "h=\"oxox\"\n",
    "i=f\"hello +++world---,I am amd +++{h}---\"\n",
    "print(i)"
   ]
  },
  {
   "cell_type": "code",
   "execution_count": 15,
   "metadata": {},
   "outputs": [
    {
     "name": "stdout",
     "output_type": "stream",
     "text": [
      "001 , 002 , 003 , 004 , 005 , 006 , 007 , 008 , 009 , 010\n",
      "011 , 012 , 013 , 014 , 015 , 016 , 017 , 018 , 019 , 020\n",
      "021 , 022 , 023 , 024 , 025 , 026 , 027 , 028 , 029 , 030\n",
      "031 , 032 , 033 , 034 , 035 , 036 , 037 , 038 , 039 , 040\n",
      "041 , 042 , 043 , 044 , 045 , 046 , 047 , 048 , 049 , 050\n",
      "051 , 052 , 053 , 054 , 055 , 056 , 057 , 058 , 059 , 060\n",
      "061 , 062 , 063 , 064 , 065 , 066 , 067 , 068 , 069 , 070\n",
      "071 , 072 , 073 , 074 , 075 , 076 , 077 , 078 , 079 , 080\n",
      "081 , 082 , 083 , 084 , 085 , 086 , 087 , 088 , 089 , 090\n",
      "091 , 092 , 093 , 094 , 095 , 096 , 097 , 098 , 099 , 100\n"
     ]
    }
   ],
   "source": [
    "for i in range(1,101):\n",
    "  print(f'{i:03d}',end=' , 'if i % 10 != 0 else '\\n')"
   ]
  },
  {
   "cell_type": "code",
   "execution_count": 16,
   "metadata": {},
   "outputs": [
    {
     "name": "stdout",
     "output_type": "stream",
     "text": [
      "001 , 002 , 003 , 004 , 005 , 006 , 007 , 008 , 009 , 010 , \n",
      "011 , 012 , 013 , 014 , 015 , 016 , 017 , 018 , 019 , 020 , \n",
      "021 , 022 , 023 , 024 , 025 , 026 , 027 , 028 , 029 , 030 , \n",
      "031 , 032 , 033 , 034 , 035 , 036 , 037 , 038 , 039 , 040 , \n",
      "041 , 042 , 043 , 044 , 045 , 046 , 047 , 048 , 049 , 050 , \n",
      "051 , 052 , 053 , 054 , 055 , 056 , 057 , 058 , 059 , 060 , \n",
      "061 , 062 , 063 , 064 , 065 , 066 , 067 , 068 , 069 , 070 , \n",
      "071 , 072 , 073 , 074 , 075 , 076 , 077 , 078 , 079 , 080 , \n",
      "081 , 082 , 083 , 084 , 085 , 086 , 087 , 088 , 089 , 090 , \n",
      "091 , 092 , 093 , 094 , 095 , 096 , 097 , 098 , 099 , 100 , \n"
     ]
    }
   ],
   "source": [
    "count=0\n",
    "for i in range(1,101):\n",
    "    print(f'{i:03d}',end=' , ')\n",
    "    count += 1\n",
    "    if count % 10==0:\n",
    "        print()"
   ]
  },
  {
   "cell_type": "code",
   "execution_count": 20,
   "metadata": {},
   "outputs": [
    {
     "name": "stdout",
     "output_type": "stream",
     "text": [
      "123.46\n"
     ]
    }
   ],
   "source": [
    "number=float(input(\"請輸入一個浮點數:\"))\n",
    "a=f\"{number:.2f}\"\n",
    "print(a)\n"
   ]
  },
  {
   "cell_type": "code",
   "execution_count": 23,
   "metadata": {},
   "outputs": [
    {
     "name": "stdout",
     "output_type": "stream",
     "text": [
      "Hello World\n"
     ]
    }
   ],
   "source": [
    "str1=input(\"請輸入第一個字串\")\n",
    "str2=input(\"請輸入第二個字串\")\n",
    "result=f\"{str1} {str2}\"\n",
    "print(result)"
   ]
  },
  {
   "cell_type": "code",
   "execution_count": 30,
   "metadata": {},
   "outputs": [
    {
     "name": "stdout",
     "output_type": "stream",
     "text": [
      "\"You are 34 years old.\"\n"
     ]
    }
   ],
   "source": [
    "出生年份=int(input(\"請輸入您的出生年份:\"))\n",
    "年齡=2024-出生年份\n",
    "print(f'\"You are {年齡} years old.\"')\n"
   ]
  },
  {
   "cell_type": "code",
   "execution_count": 46,
   "metadata": {},
   "outputs": [
    {
     "name": "stdout",
     "output_type": "stream",
     "text": [
      "\"2024-08-15-report.pdf\"\n"
     ]
    }
   ],
   "source": [
    "from datetime import datetime\n",
    "日期=datetime.now().strftime(\"%Y-%m-%d\")\n",
    "檔名=input(\"請輸入檔案名稱:\")\n",
    "副檔名=input(\"請輸入副檔案名稱:\")\n",
    "完整檔案名稱=f\"{日期}-{檔名}.{副檔名}\"\n",
    "print(f'\"{完整檔案名稱}\"')\n",
    "\n"
   ]
  },
  {
   "cell_type": "code",
   "execution_count": 47,
   "metadata": {},
   "outputs": [
    {
     "name": "stdout",
     "output_type": "stream",
     "text": [
      "6*7=42\n"
     ]
    }
   ],
   "source": [
    "num1=int(input(\"請輸入第一個整數:\"))\n",
    "num2=int(input(\"請輸入第二個整數:\"))\n",
    "result=num1*num2\n",
    "output=f\"{num1}*{num2}={result}\"\n",
    "print(output)"
   ]
  },
  {
   "cell_type": "code",
   "execution_count": null,
   "metadata": {},
   "outputs": [],
   "source": []
  }
 ],
 "metadata": {
  "kernelspec": {
   "display_name": "Python 3",
   "language": "python",
   "name": "python3"
  },
  "language_info": {
   "codemirror_mode": {
    "name": "ipython",
    "version": 3
   },
   "file_extension": ".py",
   "mimetype": "text/x-python",
   "name": "python",
   "nbconvert_exporter": "python",
   "pygments_lexer": "ipython3",
   "version": "3.12.4"
  }
 },
 "nbformat": 4,
 "nbformat_minor": 2
}
