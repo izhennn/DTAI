{
 "cells": [
  {
   "cell_type": "code",
   "execution_count": 1,
   "metadata": {},
   "outputs": [
    {
     "name": "stdout",
     "output_type": "stream",
     "text": [
      "0815\n"
     ]
    }
   ],
   "source": [
    "print(\"0815\")"
   ]
  },
  {
   "cell_type": "code",
   "execution_count": 2,
   "metadata": {},
   "outputs": [
    {
     "name": "stdout",
     "output_type": "stream",
     "text": [
      "你好 同學 , 我是PeiYu\n"
     ]
    }
   ],
   "source": [
    "c=\"你好 {} , 我是{}\"\n",
    "d=c.format(\"同學\",\"PeiYu\")\n",
    "print(d)"
   ]
  },
  {
   "cell_type": "code",
   "execution_count": 3,
   "metadata": {},
   "outputs": [
    {
     "name": "stdout",
     "output_type": "stream",
     "text": [
      "hello oxox,I am world,數字12345\n"
     ]
    }
   ],
   "source": [
    "a='hello {1},I am {0},數字{2}'\n",
    "b=a.format('world','oxox','12345')\n",
    "print(b)"
   ]
  },
  {
   "cell_type": "code",
   "execution_count": 4,
   "metadata": {},
   "outputs": [
    {
     "name": "stdout",
     "output_type": "stream",
     "text": [
      "Hello world, I am oxxo!!\n",
      "Hello world, I am xoox!!\n",
      "there are 2 dollars\n",
      "there are 2.000000 dollars\n"
     ]
    }
   ],
   "source": [
    "a = 'Hello world, I am %s!!'\n",
    "b = 'there are %d dollars'\n",
    "c = 'there are %f dollars'\n",
    "print(a % 'oxxo')\n",
    "print(a % 'xoox')\n",
    "print(b % 2.5)\n",
    "print(c % 2)"
   ]
  },
  {
   "cell_type": "code",
   "execution_count": 5,
   "metadata": {},
   "outputs": [
    {
     "name": "stdout",
     "output_type": "stream",
     "text": [
      "hello world, I am oxxo\n",
      "hello world     , I am oxxo      \n",
      "hello      world, I am       oxxo\n",
      "hello --world---, I am +++oxxo+++\n",
      "hello ---wor----, I am ---oxxo---\n",
      "hello ---wor----, I am  123.457  \n"
     ]
    }
   ],
   "source": [
    "a = 'hello {}, I am {}'.format('world','oxxo')\n",
    "b = 'hello {:10s}, I am {:10s}'.format('world','oxxo')\n",
    "c = 'hello {:>10s}, I am {:>10s}'.format('world','oxxo')\n",
    "d = 'hello {:-^10s}, I am {:+^10s}'.format('world','oxxo')\n",
    "e = 'hello {:-^10.3s}, I am {:-^10s}'.format('world','oxxo')\n",
    "f = 'hello {:-^10.3s}, I am {:^10.3f}'.format('world',123.456789)\n",
    "print(a)\n",
    "print(b)\n",
    "print(c)\n",
    "print(d)\n",
    "print(e)\n",
    "print(f)"
   ]
  },
  {
   "cell_type": "markdown",
   "metadata": {},
   "source": [
    "# hello +++world---,I am +++oxox--- "
   ]
  },
  {
   "cell_type": "code",
   "execution_count": 10,
   "metadata": {},
   "outputs": [],
   "source": [
    "g=\"{}+++world---,I amd +++{}---\".format(\"world\",\"oxox\")"
   ]
  },
  {
   "cell_type": "code",
   "execution_count": 11,
   "metadata": {},
   "outputs": [
    {
     "name": "stdout",
     "output_type": "stream",
     "text": [
      "world+++world---,I amd +++oxox---\n"
     ]
    }
   ],
   "source": [
    "print(g)"
   ]
  },
  {
   "cell_type": "code",
   "execution_count": 13,
   "metadata": {},
   "outputs": [
    {
     "name": "stdout",
     "output_type": "stream",
     "text": [
      "hello +++world---,I am amd +++oxox---\n"
     ]
    }
   ],
   "source": [
    "h=\"oxox\"\n",
    "i=f\"hello +++world---,I am amd +++{h}---\"\n",
    "print(i)"
   ]
  },
  {
   "cell_type": "code",
   "execution_count": null,
   "metadata": {},
   "outputs": [],
   "source": []
  }
 ],
 "metadata": {
  "kernelspec": {
   "display_name": "Python 3",
   "language": "python",
   "name": "python3"
  },
  "language_info": {
   "codemirror_mode": {
    "name": "ipython",
    "version": 3
   },
   "file_extension": ".py",
   "mimetype": "text/x-python",
   "name": "python",
   "nbconvert_exporter": "python",
   "pygments_lexer": "ipython3",
   "version": "3.12.4"
  }
 },
 "nbformat": 4,
 "nbformat_minor": 2
}
