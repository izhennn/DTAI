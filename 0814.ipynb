{
 "cells": [
  {
   "cell_type": "code",
   "execution_count": 1,
   "metadata": {},
   "outputs": [
    {
     "name": "stdout",
     "output_type": "stream",
     "text": [
      "0814\n"
     ]
    }
   ],
   "source": [
    "print(\"0814\")"
   ]
  },
  {
   "cell_type": "code",
   "execution_count": 3,
   "metadata": {},
   "outputs": [
    {
     "name": "stdout",
     "output_type": "stream",
     "text": [
      "1\n",
      "1 * 1 = 1\n",
      "1 * 2 = 2\n",
      "2\n",
      "2 * 1 = 2\n",
      "2 * 2 = 4\n",
      "3\n",
      "3 * 1 = 3\n",
      "3 * 2 = 6\n",
      "4\n",
      "4 * 1 = 4\n",
      "4 * 2 = 8\n"
     ]
    }
   ],
   "source": [
    "for j in range(1,5):\n",
    "    print(j)\n",
    "    for i in range(1,3):\n",
    "        k=i*j\n",
    "        print(j,\"*\",i,\"=\",k)"
   ]
  },
  {
   "cell_type": "code",
   "execution_count": 8,
   "metadata": {},
   "outputs": [
    {
     "name": "stdout",
     "output_type": "stream",
     "text": [
      "2*1= 2 2*2= 4 2*3= 6 2*4= 8 2*5=10 2*6=12 2*7=14 2*8=16 2*9=18 \n",
      "3*1= 3 3*2= 6 3*3= 9 3*4=12 3*5=15 3*6=18 3*7=21 3*8=24 3*9=27 \n",
      "4*1= 4 4*2= 8 4*3=12 4*4=16 4*5=20 4*6=24 4*7=28 4*8=32 4*9=36 \n",
      "5*1= 5 5*2=10 5*3=15 5*4=20 5*5=25 5*6=30 5*7=35 5*8=40 5*9=45 \n",
      "6*1= 6 6*2=12 6*3=18 6*4=24 6*5=30 6*6=36 6*7=42 6*8=48 6*9=54 \n",
      "7*1= 7 7*2=14 7*3=21 7*4=28 7*5=35 7*6=42 7*7=49 7*8=56 7*9=63 \n",
      "8*1= 8 8*2=16 8*3=24 8*4=32 8*5=40 8*6=48 8*7=56 8*8=64 8*9=72 \n",
      "9*1= 9 9*2=18 9*3=27 9*4=36 9*5=45 9*6=54 9*7=63 9*8=72 9*9=81 \n"
     ]
    }
   ],
   "source": [
    "for j in range(2,10):\n",
    "    for i in range(1,10):\n",
    "        k=i*j\n",
    "        print(\"%d*%d=%2d\"%(j,i,k),end=\" \")\n",
    "    print()        "
   ]
  },
  {
   "cell_type": "code",
   "execution_count": 9,
   "metadata": {},
   "outputs": [
    {
     "name": "stdout",
     "output_type": "stream",
     "text": [
      "2*1= 2 2*2= 4 2*3= 6 2*4= 8 2*5=10 2*6=12 2*7=14 2*8=16 2*9=18 \n",
      "3*1= 3 3*2= 6 3*3= 9 3*4=12 3*5=15 3*6=18 3*7=21 3*8=24 3*9=27 \n",
      "4*1= 4 4*2= 8 4*3=12 4*4=16 4*5=20 4*6=24 4*7=28 4*8=32 4*9=36 \n",
      "5*1= 5 5*2=10 5*3=15 5*4=20 5*5=25 5*6=30 5*7=35 5*8=40 5*9=45 \n",
      "6*1= 6 6*2=12 6*3=18 6*4=24 6*5=30 6*6=36 6*7=42 6*8=48 6*9=54 \n",
      "7*1= 7 7*2=14 7*3=21 7*4=28 7*5=35 7*6=42 7*7=49 7*8=56 7*9=63 \n",
      "8*1= 8 8*2=16 8*3=24 8*4=32 8*5=40 8*6=48 8*7=56 8*8=64 8*9=72 \n",
      "9*1= 9 9*2=18 9*3=27 9*4=36 9*5=45 9*6=54 9*7=63 9*8=72 9*9=81 \n"
     ]
    }
   ],
   "source": [
    "for j in range(2,10):\n",
    "    for i in range(1,10):\n",
    "        print(\"%d*%d=%2d\"%(j,i,j*i),end=\" \")\n",
    "    print()  "
   ]
  },
  {
   "cell_type": "code",
   "execution_count": 10,
   "metadata": {},
   "outputs": [
    {
     "name": "stdout",
     "output_type": "stream",
     "text": [
      "1 2 3 "
     ]
    }
   ],
   "source": [
    "for i in range(1,5):\n",
    "    if (i==4):\n",
    "       break\n",
    "    print(i,end=\" \")\n"
   ]
  },
  {
   "cell_type": "code",
   "execution_count": 12,
   "metadata": {},
   "outputs": [
    {
     "name": "stdout",
     "output_type": "stream",
     "text": [
      "1 2 3 "
     ]
    }
   ],
   "source": [
    "for i in range(1,5):\n",
    "    if (i==4):\n",
    "       continue\n",
    "    print(i,end=\" \")"
   ]
  },
  {
   "cell_type": "code",
   "execution_count": 14,
   "metadata": {},
   "outputs": [
    {
     "name": "stdout",
     "output_type": "stream",
     "text": [
      "能被7整除的數字:7\n",
      "能被7整除的數字:14\n"
     ]
    }
   ],
   "source": [
    "for i in range(1,20):\n",
    "    if i % 7 ==0:\n",
    "       print(\"能被7整除的數字:%d\"%i)\n"
   ]
  },
  {
   "cell_type": "code",
   "execution_count": 17,
   "metadata": {},
   "outputs": [
    {
     "name": "stdout",
     "output_type": "stream",
     "text": [
      "奇數:1\n",
      "奇數:3\n",
      "奇數:5\n",
      "奇數:7\n",
      "奇數:9\n",
      "奇數:11\n",
      "奇數:13\n",
      "奇數:15\n",
      "奇數:17\n",
      "奇數:19\n"
     ]
    }
   ],
   "source": [
    "for i in range(1,20):\n",
    "    if i % 2 ==0:\n",
    "       continue\n",
    "    print(\"奇數:%d\"%i)"
   ]
  },
  {
   "cell_type": "code",
   "execution_count": 18,
   "metadata": {},
   "outputs": [
    {
     "name": "stdout",
     "output_type": "stream",
     "text": [
      "4和6的最小公倍數是12\n"
     ]
    }
   ],
   "source": [
    "a=int(input(\"請輸入第一個正整數a:\"))\n",
    "b=int(input(\"請輸入第一個正整數b:\"))\n",
    "for i in range(max(a,b),(a*b)+1):\n",
    "    if i % a ==0 and i %b ==0:\n",
    "        lcm=i\n",
    "        break\n",
    "print(f\"{a}和{b}的最小公倍數是{lcm}\")    "
   ]
  },
  {
   "cell_type": "code",
   "execution_count": 20,
   "metadata": {},
   "outputs": [
    {
     "name": "stdout",
     "output_type": "stream",
     "text": [
      "1 2 3 4 6 7 8 9 11 12 "
     ]
    }
   ],
   "source": [
    "n=int(input(\"請輸入一個正整數n:\"))\n",
    "for i in range(1,n+1):\n",
    "    if i %5==0:\n",
    "        continue\n",
    "    print(i,end=\" \")"
   ]
  },
  {
   "cell_type": "code",
   "execution_count": 21,
   "metadata": {},
   "outputs": [
    {
     "name": "stdout",
     "output_type": "stream",
     "text": [
      "5!=120\n"
     ]
    }
   ],
   "source": [
    "n=int(input(\"請輸入正整數n:\"))\n",
    "factorial=1\n",
    "for i in range(1,n+1):\n",
    "    factorial*=i\n",
    "if n ==5:\n",
    "    print(f\"5!={factorial}\")\n",
    "else:\n",
    "    print(f\"{n}!={factorial}\")"
   ]
  },
  {
   "cell_type": "code",
   "execution_count": 22,
   "metadata": {},
   "outputs": [
    {
     "name": "stdout",
     "output_type": "stream",
     "text": [
      "0-50的偶數和:650\n",
      "0-50的奇數和:625\n"
     ]
    }
   ],
   "source": [
    "odd_sum=0\n",
    "even_sum=0\n",
    "for i in range(51):\n",
    "    if i %2==0:\n",
    "       even_sum+=i\n",
    "    else:\n",
    "       odd_sum+=i\n",
    "print(f\"0-50的偶數和:{even_sum}\")    \n",
    "print(f\"0-50的奇數和:{odd_sum}\")   \n"
   ]
  },
  {
   "cell_type": "code",
   "execution_count": 25,
   "metadata": {},
   "outputs": [
    {
     "name": "stdout",
     "output_type": "stream",
     "text": [
      "1 2 3 4 5 6 7 8 9 10 \n",
      "1 2 3 4 5 6 7 8 9 \n",
      "1 2 3 4 5 6 7 8 \n",
      "1 2 3 4 5 6 7 \n",
      "1 2 3 4 5 6 \n",
      "1 2 3 4 5 \n",
      "1 2 3 4 \n",
      "1 2 3 \n",
      "1 2 \n",
      "1 \n"
     ]
    }
   ],
   "source": [
    "n=int(input(\"請輸入一個正整數n:\"))\n",
    "for i in range(n,0,-1):\n",
    "    for j in range(1,i+1):\n",
    "        print(j,end=\" \")\n",
    "    print()        "
   ]
  },
  {
   "cell_type": "code",
   "execution_count": 28,
   "metadata": {},
   "outputs": [
    {
     "name": "stdout",
     "output_type": "stream",
     "text": [
      "1到100中所有是3或7倍數的數之總和是:2208\n"
     ]
    }
   ],
   "source": [
    "total_sum=0\n",
    "for i in range(1,101):\n",
    "    if i %3 ==0 or i %7 ==0:\n",
    "        total_sum+=i\n",
    "print(f\"1到100中所有是3或7倍數的數之總和是:{total_sum}\")        \n"
   ]
  },
  {
   "cell_type": "code",
   "execution_count": 32,
   "metadata": {},
   "outputs": [
    {
     "name": "stdout",
     "output_type": "stream",
     "text": [
      "3 6 7 9 12 14 15 18 21 24 27 28 30 33 35 36 39 42 45 48 49 51 54 56 57 60 63 66 69 70 72 75 77 78 81 84 87 90 91 93 96 98 99 "
     ]
    }
   ],
   "source": [
    "for i in range(1,101):\n",
    "    if i % 3 ==0 or i % 7 ==0:\n",
    "        print(i,end=\" \") "
   ]
  },
  {
   "cell_type": "code",
   "execution_count": 31,
   "metadata": {},
   "outputs": [
    {
     "name": "stdout",
     "output_type": "stream",
     "text": [
      "12的所有因數是: 1 2 3 4 6 12 \n",
      "12不是質數。\n"
     ]
    }
   ],
   "source": [
    "n=int(input(\"請輸入一個至整數:\"))\n",
    "print(f\"{n}的所有因數是:\" , end=\" \")\n",
    "for i in range(1,n+1):\n",
    "    if n % i ==0:\n",
    "       print(i,end=\" \")\n",
    "is_prime = True\n",
    "if n <= 1:\n",
    "    is_prime =False\n",
    "else:\n",
    "    for i in range(2, int(n**0.5)+1):\n",
    "        if n % i == 0:\n",
    "            is_prime = False\n",
    "            break\n",
    "if is_prime:\n",
    "    print(f\"\\n{n}是質數。\") \n",
    "else:\n",
    "    print(f\"\\n{n}不是質數。\") \n"
   ]
  },
  {
   "cell_type": "code",
   "execution_count": null,
   "metadata": {},
   "outputs": [],
   "source": []
  }
 ],
 "metadata": {
  "kernelspec": {
   "display_name": "Python 3",
   "language": "python",
   "name": "python3"
  },
  "language_info": {
   "codemirror_mode": {
    "name": "ipython",
    "version": 3
   },
   "file_extension": ".py",
   "mimetype": "text/x-python",
   "name": "python",
   "nbconvert_exporter": "python",
   "pygments_lexer": "ipython3",
   "version": "3.12.4"
  }
 },
 "nbformat": 4,
 "nbformat_minor": 2
}
