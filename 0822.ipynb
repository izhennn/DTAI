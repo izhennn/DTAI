{
 "cells": [
  {
   "cell_type": "code",
   "execution_count": 1,
   "metadata": {},
   "outputs": [
    {
     "name": "stdout",
     "output_type": "stream",
     "text": [
      "0822\n"
     ]
    }
   ],
   "source": [
    "print(\"0822\")"
   ]
  },
  {
   "cell_type": "code",
   "execution_count": 3,
   "metadata": {},
   "outputs": [
    {
     "name": "stdout",
     "output_type": "stream",
     "text": [
      "2.5\n"
     ]
    }
   ],
   "source": [
    "import math\n",
    "dividend = float(input())\n",
    "divisor = float(input())\n",
    "remainder = math.fmod(dividend, divisor)\n",
    "print(remainder)#輸入範例:100,7.5"
   ]
  },
  {
   "cell_type": "code",
   "execution_count": 7,
   "metadata": {},
   "outputs": [
    {
     "name": "stdout",
     "output_type": "stream",
     "text": [
      "153,\n"
     ]
    }
   ],
   "source": [
    "start, end = map(int, input().split())\n",
    "narcissistic_numbers = []\n",
    "for number in range(start, end + 1):\n",
    "    if 100 <= number <= 999:\n",
    "       hundreds = number // 100\n",
    "       tens = (number // 10 ) % 10\n",
    "       ones = number % 10\n",
    "       sum_of_cubes = hundreds**3 + tens**3 + ones**3\n",
    "       if sum_of_cubes == number:\n",
    "        narcissistic_numbers.append(number)\n",
    "if narcissistic_numbers:\n",
    "    print(','.join(map(str, narcissistic_numbers)) + ',')\n",
    "else:\n",
    "    print()#輸入範例:100 300\n"
   ]
  },
  {
   "cell_type": "code",
   "execution_count": 9,
   "metadata": {},
   "outputs": [
    {
     "name": "stdout",
     "output_type": "stream",
     "text": [
      "t=2.0 b=5.0 h=4.8 area=16.8\n"
     ]
    }
   ],
   "source": [
    "top = float(input())\n",
    "bottom = float(input())\n",
    "height = float(input())\n",
    "area = (top + bottom) * height / 2\n",
    "print(f\"t={top} b={bottom} h={height} area={area}\")#輸入範例:2,5,4.8"
   ]
  },
  {
   "cell_type": "code",
   "execution_count": 10,
   "metadata": {},
   "outputs": [
    {
     "name": "stdout",
     "output_type": "stream",
     "text": [
      "park time:11h:9m\n",
      "pay:300 money\n"
     ]
    }
   ],
   "source": [
    "minutes = int(input())\n",
    "hours = minutes // 60\n",
    "remaining_minutes = minutes % 60\n",
    "if minutes % 60 == 0:\n",
    "    fee = hours * 40\n",
    "else:\n",
    "    fee = (hours * 40) + 20\n",
    "if fee > 300:\n",
    "    fee = 300\n",
    "print(f\"park time:{hours}h:{remaining_minutes}m\")\n",
    "print(f\"pay:{fee} money\")#輸入範例:669"
   ]
  },
  {
   "cell_type": "code",
   "execution_count": 11,
   "metadata": {},
   "outputs": [
    {
     "name": "stdout",
     "output_type": "stream",
     "text": [
      "[3, 4, 5, 6, 7]\n"
     ]
    }
   ],
   "source": [
    "start, end, step = map(int, input().split())\n",
    "result_list = list(range(start, end, step))\n",
    "print(result_list)#輸入範例:3 8 1"
   ]
  },
  {
   "cell_type": "code",
   "execution_count": 12,
   "metadata": {},
   "outputs": [
    {
     "name": "stdout",
     "output_type": "stream",
     "text": [
      "2100 is common year\n"
     ]
    }
   ],
   "source": [
    "year = int(input())\n",
    "if (year % 4 == 0 and year % 100 != 0) or (year % 400 == 0):\n",
    "    print(f\"{year} is leap year\")\n",
    "else:\n",
    "    print(f\"{year} is common year\")#輸入範例:2100"
   ]
  },
  {
   "cell_type": "code",
   "execution_count": 13,
   "metadata": {},
   "outputs": [
    {
     "name": "stdout",
     "output_type": "stream",
     "text": [
      "0 is E\n"
     ]
    }
   ],
   "source": [
    "score = int(input())\n",
    "if score < 0 or score > 100:\n",
    "   print(f\"{score} is error\")\n",
    "elif 90 <= score <= 100:\n",
    "   print(f\"{score} is A\")    \n",
    "elif 80 <= score < 90:\n",
    "   print(f\"{score} is B\") \n",
    "elif 70 <= score < 80:\n",
    "   print(f\"{score} is C\") \n",
    "elif 60 <= score < 70:\n",
    "   print(f\"{score} is D\") \n",
    "else: # 0 <= score < 60\n",
    "   print(f\"{score} is E\")#輸入範例:0"
   ]
  },
  {
   "cell_type": "code",
   "execution_count": 14,
   "metadata": {},
   "outputs": [
    {
     "name": "stdout",
     "output_type": "stream",
     "text": [
      "15,16,17,18,\n"
     ]
    }
   ],
   "source": [
    "start, end, step = map(int, input().split())\n",
    "result_list = [str(num) for num in range(start, end, step)]\n",
    "print(\",\".join(result_list) + \",\")#輸入範例:15 19 1"
   ]
  },
  {
   "cell_type": "code",
   "execution_count": 15,
   "metadata": {},
   "outputs": [
    {
     "name": "stdout",
     "output_type": "stream",
     "text": [
      "*\n",
      "**\n",
      "***\n"
     ]
    }
   ],
   "source": [
    "n = int(input())\n",
    "for i in range(1,n+1):\n",
    "    print('*' * i)#輸入範例:3\n"
   ]
  },
  {
   "cell_type": "code",
   "execution_count": 16,
   "metadata": {},
   "outputs": [
    {
     "name": "stdout",
     "output_type": "stream",
     "text": [
      "9*1=9 9*2=18 9*3=27 9*4=36 9*5=45 9*6=54 9*7=63 9*8=72 9*9=81 \n"
     ]
    }
   ],
   "source": [
    "n = int(input())\n",
    "for i in range(n,10):\n",
    "    for j in range(1,10):\n",
    "        print(\"%d*%d=%d\" % (i,j,i*j), end=\" \")\n",
    "    print()#輸入範例:9"
   ]
  },
  {
   "cell_type": "code",
   "execution_count": null,
   "metadata": {},
   "outputs": [],
   "source": []
  }
 ],
 "metadata": {
  "kernelspec": {
   "display_name": "Python 3",
   "language": "python",
   "name": "python3"
  },
  "language_info": {
   "codemirror_mode": {
    "name": "ipython",
    "version": 3
   },
   "file_extension": ".py",
   "mimetype": "text/x-python",
   "name": "python",
   "nbconvert_exporter": "python",
   "pygments_lexer": "ipython3",
   "version": "3.12.4"
  }
 },
 "nbformat": 4,
 "nbformat_minor": 2
}
